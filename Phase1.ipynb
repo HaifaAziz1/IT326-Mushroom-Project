{
  "nbformat": 4,
  "nbformat_minor": 0,
  "metadata": {
    "colab": {
      "provenance": [],
      "include_colab_link": true
    },
    "kernelspec": {
      "name": "python3",
      "display_name": "Python 3"
    },
    "language_info": {
      "name": "python"
    }
  },
  "cells": [
    {
      "cell_type": "markdown",
      "metadata": {
        "id": "view-in-github",
        "colab_type": "text"
      },
      "source": [
        "<a href=\"https://colab.research.google.com/github/HaifaAziz1/IT326-Mushroom-Project/blob/main/Phase1.ipynb\" target=\"_parent\"><img src=\"https://colab.research.google.com/assets/colab-badge.svg\" alt=\"Open In Colab\"/></a>"
      ]
    },
    {
      "cell_type": "markdown",
      "source": [
        "##Project Goal :\n",
        "Apply data mining techniques — classification and clustering — on the Mushroom dataset to distinguish edible vs. poisonous mushrooms and explore meaningful groupings.\n",
        "\n",
        "\n",
        "##Dataset Source :\n",
        "Name: Mushroom Classification (UCI / Kaggle)\n",
        "\n",
        "URL :  https://www.kaggle.com/datasets/uciml/mushroom-classification\n",
        "\n",
        "Format: CSV"
      ],
      "metadata": {
        "id": "enaz2be4jRl9"
      }
    },
    {
      "cell_type": "code",
      "source": [
        "import pandas as pd\n",
        "url = \"https://raw.githubusercontent.com/HaifaAziz1/IT326-Mushroom-Project/refs/heads/main/Dataset/Raw_dataset.csv\"\n",
        "df = pd.read_csv(url)\n",
        "print(df.head())"
      ],
      "metadata": {
        "colab": {
          "base_uri": "https://localhost:8080/"
        },
        "id": "qvYLQLTaFW_N",
        "outputId": "08255b18-238d-41ea-f492-79c33b59b8f2"
      },
      "execution_count": 3,
      "outputs": [
        {
          "output_type": "stream",
          "name": "stdout",
          "text": [
            "  class cap-shape cap-surface cap-color bruises odor gill-attachment  \\\n",
            "0     p         x           s         n       t    p               f   \n",
            "1     e         x           s         y       t    a               f   \n",
            "2     e         b           s         w       t    l               f   \n",
            "3     p         x           y         w       t    p               f   \n",
            "4     e         x           s         g       f    n               f   \n",
            "\n",
            "  gill-spacing gill-size gill-color  ... stalk-surface-below-ring  \\\n",
            "0            c         n          k  ...                        s   \n",
            "1            c         b          k  ...                        s   \n",
            "2            c         b          n  ...                        s   \n",
            "3            c         n          n  ...                        s   \n",
            "4            w         b          k  ...                        s   \n",
            "\n",
            "  stalk-color-above-ring stalk-color-below-ring veil-type veil-color  \\\n",
            "0                      w                      w         p          w   \n",
            "1                      w                      w         p          w   \n",
            "2                      w                      w         p          w   \n",
            "3                      w                      w         p          w   \n",
            "4                      w                      w         p          w   \n",
            "\n",
            "  ring-number ring-type spore-print-color population habitat  \n",
            "0           o         p                 k          s       u  \n",
            "1           o         p                 n          n       g  \n",
            "2           o         p                 n          n       m  \n",
            "3           o         p                 k          s       u  \n",
            "4           o         e                 n          a       g  \n",
            "\n",
            "[5 rows x 23 columns]\n"
          ]
        }
      ]
    },
    {
      "cell_type": "code",
      "source": [
        "print(\"Number of attributes :\", df.shape[1])\n",
        "print(\"Data types of attributes:\")\n",
        "print(df.dtypes)"
      ],
      "metadata": {
        "colab": {
          "base_uri": "https://localhost:8080/"
        },
        "id": "ga4o8QsXeYn6",
        "outputId": "05d01556-6e02-4d43-ce4b-297422807dc3"
      },
      "execution_count": 4,
      "outputs": [
        {
          "output_type": "stream",
          "name": "stdout",
          "text": [
            "Number of attributes : 23\n",
            "Data types of attributes:\n",
            "class                       object\n",
            "cap-shape                   object\n",
            "cap-surface                 object\n",
            "cap-color                   object\n",
            "bruises                     object\n",
            "odor                        object\n",
            "gill-attachment             object\n",
            "gill-spacing                object\n",
            "gill-size                   object\n",
            "gill-color                  object\n",
            "stalk-shape                 object\n",
            "stalk-root                  object\n",
            "stalk-surface-above-ring    object\n",
            "stalk-surface-below-ring    object\n",
            "stalk-color-above-ring      object\n",
            "stalk-color-below-ring      object\n",
            "veil-type                   object\n",
            "veil-color                  object\n",
            "ring-number                 object\n",
            "ring-type                   object\n",
            "spore-print-color           object\n",
            "population                  object\n",
            "habitat                     object\n",
            "dtype: object\n"
          ]
        }
      ]
    },
    {
      "cell_type": "code",
      "source": [
        "print(\"Number of objects:\", df.shape[0])"
      ],
      "metadata": {
        "colab": {
          "base_uri": "https://localhost:8080/"
        },
        "id": "QICJ1I76f1Rr",
        "outputId": "b32d53e3-91d2-4654-82bc-d65293c1e6fa"
      },
      "execution_count": 5,
      "outputs": [
        {
          "output_type": "stream",
          "name": "stdout",
          "text": [
            "Number of objects: 8124\n"
          ]
        }
      ]
    },
    {
      "cell_type": "code",
      "execution_count": 7,
      "metadata": {
        "id": "L0Ah4pFj0ZmW",
        "colab": {
          "base_uri": "https://localhost:8080/"
        },
        "outputId": "52fbe7fe-14fc-4b62-a437-6247a0ee118e"
      },
      "outputs": [
        {
          "output_type": "stream",
          "name": "stdout",
          "text": [
            "Class attribute and it's values (e for edible, p for poisonous): \n",
            "\n",
            "class\n",
            "e    4208\n",
            "p    3916\n",
            "Name: count, dtype: int64\n"
          ]
        }
      ],
      "source": [
        "print(\"Class attribute and it's values (e for edible, p for poisonous): \\n\")\n",
        "\n",
        "\n",
        "print(df['class'].value_counts())\n"
      ]
    }
  ]
}