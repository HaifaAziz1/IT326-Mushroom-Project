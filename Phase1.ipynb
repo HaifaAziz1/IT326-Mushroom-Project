{
  "nbformat": 4,
  "nbformat_minor": 0,
  "metadata": {
    "colab": {
      "provenance": [],
      "toc_visible": true,
      "include_colab_link": true
    },
    "kernelspec": {
      "name": "python3",
      "display_name": "Python 3"
    },
    "language_info": {
      "name": "python"
    }
  },
  "cells": [
    {
      "cell_type": "markdown",
      "metadata": {
        "id": "view-in-github",
        "colab_type": "text"
      },
      "source": [
        "<a href=\"https://colab.research.google.com/github/HaifaAziz1/IT326-Mushroom-Project/blob/main/Phase1.ipynb\" target=\"_parent\"><img src=\"https://colab.research.google.com/assets/colab-badge.svg\" alt=\"Open In Colab\"/></a>"
      ]
    },
    {
      "cell_type": "code",
      "source": [
        "import pandas as pd\n",
        "url = \"https://raw.githubusercontent.com/HaifaAziz1/IT326-Mushroom-Project/refs/heads/main/Dataset/Raw_dataset.csv\"\n",
        "df = pd.read_csv(url)\n",
        "print(df.head())"
      ],
      "metadata": {
        "colab": {
          "base_uri": "https://localhost:8080/"
        },
        "id": "qvYLQLTaFW_N",
        "outputId": "2ad66e73-a9a4-4c31-e3fd-32cbe7164752"
      },
      "execution_count": 16,
      "outputs": [
        {
          "output_type": "stream",
          "name": "stdout",
          "text": [
            "  class cap-shape cap-surface cap-color bruises odor gill-attachment  \\\n",
            "0     p         x           s         n       t    p               f   \n",
            "1     e         x           s         y       t    a               f   \n",
            "2     e         b           s         w       t    l               f   \n",
            "3     p         x           y         w       t    p               f   \n",
            "4     e         x           s         g       f    n               f   \n",
            "\n",
            "  gill-spacing gill-size gill-color  ... stalk-surface-below-ring  \\\n",
            "0            c         n          k  ...                        s   \n",
            "1            c         b          k  ...                        s   \n",
            "2            c         b          n  ...                        s   \n",
            "3            c         n          n  ...                        s   \n",
            "4            w         b          k  ...                        s   \n",
            "\n",
            "  stalk-color-above-ring stalk-color-below-ring veil-type veil-color  \\\n",
            "0                      w                      w         p          w   \n",
            "1                      w                      w         p          w   \n",
            "2                      w                      w         p          w   \n",
            "3                      w                      w         p          w   \n",
            "4                      w                      w         p          w   \n",
            "\n",
            "  ring-number ring-type spore-print-color population habitat  \n",
            "0           o         p                 k          s       u  \n",
            "1           o         p                 n          n       g  \n",
            "2           o         p                 n          n       m  \n",
            "3           o         p                 k          s       u  \n",
            "4           o         e                 n          a       g  \n",
            "\n",
            "[5 rows x 23 columns]\n"
          ]
        }
      ]
    },
    {
      "cell_type": "code",
      "execution_count": 28,
      "metadata": {
        "id": "L0Ah4pFj0ZmW",
        "colab": {
          "base_uri": "https://localhost:8080/"
        },
        "outputId": "4630bb1c-d95a-403e-c61f-a0972c5b6b2f"
      },
      "outputs": [
        {
          "output_type": "stream",
          "name": "stdout",
          "text": [
            "Class attribute:\n",
            "  class cap-shape cap-surface cap-color bruises odor gill-attachment  \\\n",
            "0     p         x           s         n       t    p               f   \n",
            "1     e         x           s         y       t    a               f   \n",
            "2     e         b           s         w       t    l               f   \n",
            "3     p         x           y         w       t    p               f   \n",
            "4     e         x           s         g       f    n               f   \n",
            "\n",
            "  gill-spacing gill-size gill-color  ... stalk-surface-below-ring  \\\n",
            "0            c         n          k  ...                        s   \n",
            "1            c         b          k  ...                        s   \n",
            "2            c         b          n  ...                        s   \n",
            "3            c         n          n  ...                        s   \n",
            "4            w         b          k  ...                        s   \n",
            "\n",
            "  stalk-color-above-ring stalk-color-below-ring veil-type veil-color  \\\n",
            "0                      w                      w         p          w   \n",
            "1                      w                      w         p          w   \n",
            "2                      w                      w         p          w   \n",
            "3                      w                      w         p          w   \n",
            "4                      w                      w         p          w   \n",
            "\n",
            "  ring-number ring-type spore-print-color population habitat  \n",
            "0           o         p                 k          s       u  \n",
            "1           o         p                 n          n       g  \n",
            "2           o         p                 n          n       m  \n",
            "3           o         p                 k          s       u  \n",
            "4           o         e                 n          a       g  \n",
            "\n",
            "[5 rows x 23 columns]\n",
            "\n",
            "Values and counts:\n",
            "class\n",
            "e    4208\n",
            "p    3916\n",
            "Name: count, dtype: int64\n",
            "cap-shape\n",
            "x    3656\n",
            "f    3152\n",
            "k     828\n",
            "b     452\n",
            "s      32\n",
            "c       4\n",
            "Name: count, dtype: int64\n",
            "--------------\n",
            "  class cap-shape cap-surface cap-color bruises odor gill-attachment  \\\n",
            "0     p         x           s         n       t    p               f   \n",
            "1     e         x           s         y       t    a               f   \n",
            "\n",
            "  gill-spacing gill-size gill-color  ... stalk-surface-below-ring  \\\n",
            "0            c         n          k  ...                        s   \n",
            "1            c         b          k  ...                        s   \n",
            "\n",
            "  stalk-color-above-ring stalk-color-below-ring veil-type veil-color  \\\n",
            "0                      w                      w         p          w   \n",
            "1                      w                      w         p          w   \n",
            "\n",
            "  ring-number ring-type spore-print-color population habitat  \n",
            "0           o         p                 k          s       u  \n",
            "1           o         p                 n          n       g  \n",
            "\n",
            "[2 rows x 23 columns]\n",
            "0       p\n",
            "1       a\n",
            "2       l\n",
            "3       p\n",
            "4       n\n",
            "       ..\n",
            "8119    n\n",
            "8120    n\n",
            "8121    n\n",
            "8122    y\n",
            "8123    n\n",
            "Name: odor, Length: 8124, dtype: object\n",
            "     class cap-shape cap-surface cap-color bruises odor gill-attachment  \\\n",
            "8114     p         f           y         c       f    m               a   \n",
            "8115     e         x           s         n       f    n               a   \n",
            "8116     p         k           y         n       f    s               f   \n",
            "8117     p         k           s         e       f    y               f   \n",
            "8118     p         k           y         n       f    f               f   \n",
            "8119     e         k           s         n       f    n               a   \n",
            "8120     e         x           s         n       f    n               a   \n",
            "8121     e         f           s         n       f    n               a   \n",
            "8122     p         k           y         n       f    y               f   \n",
            "8123     e         x           s         n       f    n               a   \n",
            "\n",
            "     gill-spacing gill-size gill-color  ... stalk-surface-below-ring  \\\n",
            "8114            c         b          y  ...                        y   \n",
            "8115            c         b          y  ...                        s   \n",
            "8116            c         n          b  ...                        k   \n",
            "8117            c         n          b  ...                        s   \n",
            "8118            c         n          b  ...                        s   \n",
            "8119            c         b          y  ...                        s   \n",
            "8120            c         b          y  ...                        s   \n",
            "8121            c         b          n  ...                        s   \n",
            "8122            c         n          b  ...                        k   \n",
            "8123            c         b          y  ...                        s   \n",
            "\n",
            "     stalk-color-above-ring stalk-color-below-ring veil-type veil-color  \\\n",
            "8114                      c                      c         p          w   \n",
            "8115                      o                      o         p          o   \n",
            "8116                      p                      w         p          w   \n",
            "8117                      p                      w         p          w   \n",
            "8118                      p                      w         p          w   \n",
            "8119                      o                      o         p          o   \n",
            "8120                      o                      o         p          n   \n",
            "8121                      o                      o         p          o   \n",
            "8122                      w                      w         p          w   \n",
            "8123                      o                      o         p          o   \n",
            "\n",
            "     ring-number ring-type spore-print-color population habitat  \n",
            "8114           n         n                 w          c       d  \n",
            "8115           o         p                 o          v       l  \n",
            "8116           o         e                 w          v       l  \n",
            "8117           o         e                 w          v       d  \n",
            "8118           o         e                 w          v       d  \n",
            "8119           o         p                 b          c       l  \n",
            "8120           o         p                 b          v       l  \n",
            "8121           o         p                 b          c       l  \n",
            "8122           o         e                 w          v       l  \n",
            "8123           o         p                 o          c       l  \n",
            "\n",
            "[10 rows x 23 columns]\n"
          ]
        }
      ],
      "source": [
        "print(\"Class attribute:\")\n",
        "print(df.head())\n",
        "\n",
        "print(\"\\nValues and counts:\")\n",
        "print(df['class'].value_counts())\n",
        "print(df['cap-shape'].value_counts())\n",
        "print(\"--------------\")\n",
        "print(df.head(2))\n",
        "print(df.odor)\n",
        "print(df.tail(10))\n"
      ]
    }
  ]
}