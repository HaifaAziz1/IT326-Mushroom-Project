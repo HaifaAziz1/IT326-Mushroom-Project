{
  "nbformat": 4,
  "nbformat_minor": 0,
  "metadata": {
    "colab": {
      "provenance": [],
      "toc_visible": true,
      "include_colab_link": true
    },
    "kernelspec": {
      "name": "python3",
      "display_name": "Python 3"
    },
    "language_info": {
      "name": "python"
    }
  },
  "cells": [
    {
      "cell_type": "markdown",
      "metadata": {
        "id": "view-in-github",
        "colab_type": "text"
      },
      "source": [
        "<a href=\"https://colab.research.google.com/github/HaifaAziz1/IT326-Mushroom-Project/blob/main/Phase1.ipynb\" target=\"_parent\"><img src=\"https://colab.research.google.com/assets/colab-badge.svg\" alt=\"Open In Colab\"/></a>"
      ]
    },
    {
      "cell_type": "code",
      "source": [
        "import pandas as pd\n",
        "url = \"https://raw.githubusercontent.com/HaifaAziz1/IT326-Mushroom-Project/refs/heads/main/Dataset/Raw_dataset.csv\"\n",
        "df = pd.read_csv(url)\n",
        "print(df.head())"
      ],
      "metadata": {
        "colab": {
          "base_uri": "https://localhost:8080/"
        },
        "id": "qvYLQLTaFW_N",
        "outputId": "81639cd8-f41b-413f-980d-b41efed57f59",
        "collapsed": true
      },
      "execution_count": 2,
      "outputs": [
        {
          "output_type": "stream",
          "name": "stdout",
          "text": [
            "  class cap-shape cap-surface cap-color bruises odor gill-attachment  \\\n",
            "0     p         x           s         n       t    p               f   \n",
            "1     e         x           s         y       t    a               f   \n",
            "2     e         b           s         w       t    l               f   \n",
            "3     p         x           y         w       t    p               f   \n",
            "4     e         x           s         g       f    n               f   \n",
            "\n",
            "  gill-spacing gill-size gill-color  ... stalk-surface-below-ring  \\\n",
            "0            c         n          k  ...                        s   \n",
            "1            c         b          k  ...                        s   \n",
            "2            c         b          n  ...                        s   \n",
            "3            c         n          n  ...                        s   \n",
            "4            w         b          k  ...                        s   \n",
            "\n",
            "  stalk-color-above-ring stalk-color-below-ring veil-type veil-color  \\\n",
            "0                      w                      w         p          w   \n",
            "1                      w                      w         p          w   \n",
            "2                      w                      w         p          w   \n",
            "3                      w                      w         p          w   \n",
            "4                      w                      w         p          w   \n",
            "\n",
            "  ring-number ring-type spore-print-color population habitat  \n",
            "0           o         p                 k          s       u  \n",
            "1           o         p                 n          n       g  \n",
            "2           o         p                 n          n       m  \n",
            "3           o         p                 k          s       u  \n",
            "4           o         e                 n          a       g  \n",
            "\n",
            "[5 rows x 23 columns]\n"
          ]
        }
      ]
    },
    {
      "cell_type": "code",
      "source": [
        "print(\"Number of attributes :\", df.shape[1])\n",
        "print(\"\\nData types of attributes:\")\n",
        "print(df.dtypes)"
      ],
      "metadata": {
        "id": "ga4o8QsXeYn6",
        "outputId": "43948f5c-5ea2-4620-bcbc-c6b7d4fa845d",
        "colab": {
          "base_uri": "https://localhost:8080/"
        }
      },
      "execution_count": 7,
      "outputs": [
        {
          "output_type": "stream",
          "name": "stdout",
          "text": [
            "Number of attributes : 23\n",
            "\n",
            "Data types of attributes:\n",
            "class                       object\n",
            "cap-shape                   object\n",
            "cap-surface                 object\n",
            "cap-color                   object\n",
            "bruises                     object\n",
            "odor                        object\n",
            "gill-attachment             object\n",
            "gill-spacing                object\n",
            "gill-size                   object\n",
            "gill-color                  object\n",
            "stalk-shape                 object\n",
            "stalk-root                  object\n",
            "stalk-surface-above-ring    object\n",
            "stalk-surface-below-ring    object\n",
            "stalk-color-above-ring      object\n",
            "stalk-color-below-ring      object\n",
            "veil-type                   object\n",
            "veil-color                  object\n",
            "ring-number                 object\n",
            "ring-type                   object\n",
            "spore-print-color           object\n",
            "population                  object\n",
            "habitat                     object\n",
            "dtype: object\n"
          ]
        }
      ]
    },
    {
      "cell_type": "code",
      "source": [
        "print(\"Number of objects:\", df.shape[0])"
      ],
      "metadata": {
        "id": "QICJ1I76f1Rr",
        "outputId": "41c55361-9d7a-404a-93a9-bb8d9527ada5",
        "colab": {
          "base_uri": "https://localhost:8080/"
        }
      },
      "execution_count": 5,
      "outputs": [
        {
          "output_type": "stream",
          "name": "stdout",
          "text": [
            "Number of objects: 8124\n"
          ]
        }
      ]
    },
    {
      "cell_type": "code",
      "execution_count": 8,
      "metadata": {
        "id": "L0Ah4pFj0ZmW",
        "colab": {
          "base_uri": "https://localhost:8080/"
        },
        "outputId": "91de6227-e12c-453a-dcb7-0be6741140bd",
        "collapsed": true
      },
      "outputs": [
        {
          "output_type": "stream",
          "name": "stdout",
          "text": [
            "Class attribute:\n",
            "  class cap-shape cap-surface cap-color bruises odor gill-attachment  \\\n",
            "0     p         x           s         n       t    p               f   \n",
            "1     e         x           s         y       t    a               f   \n",
            "2     e         b           s         w       t    l               f   \n",
            "3     p         x           y         w       t    p               f   \n",
            "4     e         x           s         g       f    n               f   \n",
            "\n",
            "  gill-spacing gill-size gill-color  ... stalk-surface-below-ring  \\\n",
            "0            c         n          k  ...                        s   \n",
            "1            c         b          k  ...                        s   \n",
            "2            c         b          n  ...                        s   \n",
            "3            c         n          n  ...                        s   \n",
            "4            w         b          k  ...                        s   \n",
            "\n",
            "  stalk-color-above-ring stalk-color-below-ring veil-type veil-color  \\\n",
            "0                      w                      w         p          w   \n",
            "1                      w                      w         p          w   \n",
            "2                      w                      w         p          w   \n",
            "3                      w                      w         p          w   \n",
            "4                      w                      w         p          w   \n",
            "\n",
            "  ring-number ring-type spore-print-color population habitat  \n",
            "0           o         p                 k          s       u  \n",
            "1           o         p                 n          n       g  \n",
            "2           o         p                 n          n       m  \n",
            "3           o         p                 k          s       u  \n",
            "4           o         e                 n          a       g  \n",
            "\n",
            "[5 rows x 23 columns]\n",
            "\n",
            "Values and counts:\n",
            "class\n",
            "e    4208\n",
            "p    3916\n",
            "Name: count, dtype: int64\n",
            "cap-shape\n",
            "x    3656\n",
            "f    3152\n",
            "k     828\n",
            "b     452\n",
            "s      32\n",
            "c       4\n",
            "Name: count, dtype: int64\n",
            "--------------\n",
            "  class cap-shape cap-surface cap-color bruises odor gill-attachment  \\\n",
            "0     p         x           s         n       t    p               f   \n",
            "1     e         x           s         y       t    a               f   \n",
            "\n",
            "  gill-spacing gill-size gill-color  ... stalk-surface-below-ring  \\\n",
            "0            c         n          k  ...                        s   \n",
            "1            c         b          k  ...                        s   \n",
            "\n",
            "  stalk-color-above-ring stalk-color-below-ring veil-type veil-color  \\\n",
            "0                      w                      w         p          w   \n",
            "1                      w                      w         p          w   \n",
            "\n",
            "  ring-number ring-type spore-print-color population habitat  \n",
            "0           o         p                 k          s       u  \n",
            "1           o         p                 n          n       g  \n",
            "\n",
            "[2 rows x 23 columns]\n",
            "0       p\n",
            "1       a\n",
            "2       l\n",
            "3       p\n",
            "4       n\n",
            "       ..\n",
            "8119    n\n",
            "8120    n\n",
            "8121    n\n",
            "8122    y\n",
            "8123    n\n",
            "Name: odor, Length: 8124, dtype: object\n",
            "     class cap-shape cap-surface cap-color bruises odor gill-attachment  \\\n",
            "8114     p         f           y         c       f    m               a   \n",
            "8115     e         x           s         n       f    n               a   \n",
            "8116     p         k           y         n       f    s               f   \n",
            "8117     p         k           s         e       f    y               f   \n",
            "8118     p         k           y         n       f    f               f   \n",
            "8119     e         k           s         n       f    n               a   \n",
            "8120     e         x           s         n       f    n               a   \n",
            "8121     e         f           s         n       f    n               a   \n",
            "8122     p         k           y         n       f    y               f   \n",
            "8123     e         x           s         n       f    n               a   \n",
            "\n",
            "     gill-spacing gill-size gill-color  ... stalk-surface-below-ring  \\\n",
            "8114            c         b          y  ...                        y   \n",
            "8115            c         b          y  ...                        s   \n",
            "8116            c         n          b  ...                        k   \n",
            "8117            c         n          b  ...                        s   \n",
            "8118            c         n          b  ...                        s   \n",
            "8119            c         b          y  ...                        s   \n",
            "8120            c         b          y  ...                        s   \n",
            "8121            c         b          n  ...                        s   \n",
            "8122            c         n          b  ...                        k   \n",
            "8123            c         b          y  ...                        s   \n",
            "\n",
            "     stalk-color-above-ring stalk-color-below-ring veil-type veil-color  \\\n",
            "8114                      c                      c         p          w   \n",
            "8115                      o                      o         p          o   \n",
            "8116                      p                      w         p          w   \n",
            "8117                      p                      w         p          w   \n",
            "8118                      p                      w         p          w   \n",
            "8119                      o                      o         p          o   \n",
            "8120                      o                      o         p          n   \n",
            "8121                      o                      o         p          o   \n",
            "8122                      w                      w         p          w   \n",
            "8123                      o                      o         p          o   \n",
            "\n",
            "     ring-number ring-type spore-print-color population habitat  \n",
            "8114           n         n                 w          c       d  \n",
            "8115           o         p                 o          v       l  \n",
            "8116           o         e                 w          v       l  \n",
            "8117           o         e                 w          v       d  \n",
            "8118           o         e                 w          v       d  \n",
            "8119           o         p                 b          c       l  \n",
            "8120           o         p                 b          v       l  \n",
            "8121           o         p                 b          c       l  \n",
            "8122           o         e                 w          v       l  \n",
            "8123           o         p                 o          c       l  \n",
            "\n",
            "[10 rows x 23 columns]\n"
          ]
        }
      ],
      "source": [
        "print(\"Class attribute:\")\n",
        "print(df.head())\n",
        "\n",
        "print(\"\\nValues and counts:\")\n",
        "print(df['class'].value_counts())\n",
        "print(df['cap-shape'].value_counts())\n",
        "print(\"--------------\")\n",
        "print(df.head(2))\n",
        "print(df.odor)\n",
        "print(df.tail(10))\n"
      ]
    }
  ]
}